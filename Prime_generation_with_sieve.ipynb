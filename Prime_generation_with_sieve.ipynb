{
  "nbformat": 4,
  "nbformat_minor": 0,
  "metadata": {
    "colab": {
      "provenance": []
    },
    "kernelspec": {
      "name": "python3",
      "display_name": "Python 3"
    },
    "language_info": {
      "name": "python"
    }
  },
  "cells": [
    {
      "cell_type": "code",
      "execution_count": 7,
      "metadata": {
        "colab": {
          "base_uri": "https://localhost:8080/"
        },
        "id": "lNDiv3kPXMSN",
        "outputId": "5438abfd-967c-4166-c4de-be1e81d657bc"
      },
      "outputs": [
        {
          "output_type": "stream",
          "name": "stdout",
          "text": [
            "Error: input.csv not found\n"
          ]
        }
      ],
      "source": [
        "import csv\n",
        "\n",
        "def sieve_prime_count(n):\n",
        "    \"\"\"Generate all prime numbers up to n using Sieve of Eratosthenes.\"\"\"\n",
        "    if n < 2:\n",
        "        return []\n",
        "\n",
        "    sieve = [True] * (n + 1)\n",
        "    sieve[0] = sieve[1] = False\n",
        "    primes = []\n",
        "\n",
        "    for p in range(2, int(n ** 0.5) + 1):\n",
        "        if sieve[p]:\n",
        "            # primes.append(p)\n",
        "            for multiple in range(p*p, n+1, p):\n",
        "                sieve[multiple] = False\n",
        "\n",
        "    # Add remaining primes > sqrt(n)\n",
        "    primes.extend([i for i in range(2, n+1) if sieve[i]])\n",
        "\n",
        "    return primes\n",
        "\n",
        "def main():\n",
        "    try:\n",
        "        # Read from input.csv (commented out for testing)\n",
        "        with open('input.csv', 'r') as infile:\n",
        "            max_num = int(next(csv.reader(infile))[0])\n",
        "\n",
        "        # max_num = 178  # Test value\n",
        "\n",
        "        primes = sieve_prime_count(max_num)\n",
        "        prime_count = len(primes)  # Count of primes, not sum\n",
        "\n",
        "        print(\"Prime numbers found:\", primes)\n",
        "\n",
        "        with open('output.csv', 'w', newline='') as outfile:\n",
        "            # Write both count and primes (adjust as needed)\n",
        "            csv.writer(outfile).writerow([prime_count])\n",
        "            csv.writer(outfile).writerow(primes)\n",
        "\n",
        "        print(f\"Found {prime_count} primes up to {max_num}\")\n",
        "\n",
        "    except FileNotFoundError:\n",
        "        print(\"Error: input.csv not found\")\n",
        "    except ValueError:\n",
        "        print(\"Error: Invalid input format\")\n",
        "    except Exception as e:\n",
        "        print(f\"Error: {e}\")\n",
        "\n",
        "if __name__ == \"__main__\":\n",
        "    main()"
      ]
    }
  ]
}