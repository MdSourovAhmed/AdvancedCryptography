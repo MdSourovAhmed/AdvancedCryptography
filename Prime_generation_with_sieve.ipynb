{
  "cells": [
    {
      "cell_type": "code",
      "execution_count": null,
      "metadata": {
        "colab": {
          "base_uri": "https://localhost:8080/"
        },
        "id": "lNDiv3kPXMSN",
        "outputId": "5438abfd-967c-4166-c4de-be1e81d657bc"
      },
      "outputs": [
        {
          "name": "stdout",
          "output_type": "stream",
          "text": [
            "Error: input.csv not found\n"
          ]
        }
      ],
      "source": [
        "import csv\n",
        "\n",
        "def sieve_prime_count(n):\n",
        "    '''Generateing all prime numbers up to n using Sieve of Eratosthenes.'''\n",
        "    if n < 2:\n",
        "        return []\n",
        "\n",
        "    sieve = [True] * (n + 1)\n",
        "    sieve[0] = sieve[1] = False\n",
        "    primes = []\n",
        "\n",
        "    for p in range(2, int(n ** 0.5) + 1):\n",
        "        if sieve[p]:\n",
        "            '''this would append primes only upto sqrt(n), but we need every prime over the range'''\n",
        "            # primes.append(p) \n",
        "            for multiple in range(p*p, n+1, p):\n",
        "                sieve[multiple] = False\n",
        "\n",
        "    ''' Adding all the  primes in range (1..n)'''\n",
        "    primes.extend([i for i in range(2, n+1) if sieve[i]])\n",
        "\n",
        "    return primes\n",
        "\n",
        "def main():\n",
        "    try:\n",
        "        '''Reading from input.csv'''\n",
        "        with open('input.csv', 'r') as infile:\n",
        "            max_num = int(next(csv.reader(infile))[0])\n",
        "\n",
        "        '''Tested with the value 178'''\n",
        "        # max_num = 178\n",
        "\n",
        "        primes = sieve_prime_count(max_num)\n",
        "        '''Counting all the prime numbers'''\n",
        "        prime_count = len(primes)  \n",
        "\n",
        "        print(\"Prime numbers found:\", primes)\n",
        "\n",
        "        with open('output.csv', 'w', newline='') as outfile:\n",
        "            '''Writing both count and primes'''\n",
        "            csv.writer(outfile).writerow([prime_count])\n",
        "            csv.writer(outfile).writerow(primes)\n",
        "\n",
        "        print(f\"Found {prime_count} primes up to {max_num}\")\n",
        "\n",
        "    except FileNotFoundError:\n",
        "        print(\"Error: input.csv not found\")\n",
        "    except ValueError:\n",
        "        print(\"Error: Invalid input format\")\n",
        "    except Exception as e:\n",
        "        print(f\"Error: {e}\")\n",
        "\n",
        "if __name__ == \"__main__\":\n",
        "    main()"
      ]
    }
  ],
  "metadata": {
    "colab": {
      "provenance": []
    },
    "kernelspec": {
      "display_name": "Python 3",
      "name": "python3"
    },
    "language_info": {
      "name": "python"
    }
  },
  "nbformat": 4,
  "nbformat_minor": 0
}
